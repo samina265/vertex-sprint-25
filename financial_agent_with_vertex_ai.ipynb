{
  "cells": [
    {
      "cell_type": "code",
      "execution_count": null,
      "metadata": {
        "colab": {
          "background_save": true
        },
        "id": "yXQUcXWWzC1O"
      },
      "outputs": [],
      "source": [
        "!gcloud auth application-default login --no-launch-browser"
      ]
    },
    {
      "cell_type": "code",
      "execution_count": null,
      "metadata": {
        "colab": {
          "background_save": true
        },
        "id": "3z1VgtfD0LM6"
      },
      "outputs": [],
      "source": [
        "!gcloud config list"
      ]
    },
    {
      "cell_type": "code",
      "execution_count": null,
      "metadata": {
        "colab": {
          "background_save": true,
          "base_uri": "https://localhost:8080/"
        },
        "id": "7kdzTQb60LDD",
        "outputId": "1a2bd569-2be3-4db4-829c-6f761bb2ba93"
      },
      "outputs": [
        {
          "name": "stdout",
          "output_type": "stream",
          "text": [
            "Updated property [core/project].\n"
          ]
        }
      ],
      "source": [
        "!gcloud config set project #_projectID_\n"
      ]
    },
    {
      "cell_type": "code",
      "execution_count": null,
      "metadata": {
        "colab": {
          "background_save": true
        },
        "id": "Ki_CtoX6zdsz"
      },
      "outputs": [],
      "source": [
        "from google.auth import default\n",
        "from vertexai import init\n",
        "\n",
        "# ✅ Get default Google credentials\n",
        "credentials, project_id = default()\n",
        "\n",
        "# ✅ Initialize Vertex AI\n",
        "init(\n",
        "    project=\"\",#_projectID_\n",
        "    location=\"us-central1\",\n",
        "    credentials=credentials\n",
        ")\n",
        "\n"
      ]
    },
    {
      "cell_type": "code",
      "execution_count": null,
      "metadata": {
        "id": "RPyX6LfjzCv7",
        "collapsed": true
      },
      "outputs": [],
      "source": [
        "!gcloud auth application-default print-access-token\n"
      ]
    },
    {
      "cell_type": "code",
      "execution_count": null,
      "metadata": {
        "colab": {
          "background_save": true,
          "base_uri": "https://localhost:8080/"
        },
        "id": "jzKLHOCY0kEB",
        "outputId": "1df137c4-3498-4177-e468-0e65a19ce0df"
      },
      "outputs": [
        {
          "name": "stdout",
          "output_type": "stream",
          "text": [
            "The AI landscape is evolving so rapidly that pinpointing *one* definitive \"latest trend\" is difficult. However, several areas are experiencing significant buzz and development right now. Here's a breakdown of what's hot, with a focus on themes rather than specific tools (as tools come and go quickly):\n",
            "\n",
            "**1. Generative AI Advancements & Applications Beyond Text/Images:**\n",
            "\n",
            "*   **Multimodal Models:** Moving beyond just text or images. AI that can understand and generate content across multiple modalities (text, images, audio, video, code, 3D models).  Think:  a model that can create a video from a text description, or generate music based on an image. This is HUGE.\n",
            "*   **AI Agents/Autonomous Systems:** Generative AI is powering more sophisticated AI Agents that can perform complex tasks autonomously.  These agents can plan, execute, and adapt to changing environments, making them valuable in various industries.  Examples include agents that can manage your calendar, automate customer support, or even design software code.\n",
            "*   **Generative AI for Scientific Discovery:** Using generative models to design new molecules, drugs, materials, and even protein structures. This could revolutionize fields like medicine and materials science.\n",
            "*   **Enhanced Control and Customization:**  Focus is shifting towards giving users more precise control over the output of generative models.  Fine-tuning, prompt engineering advancements, and tools to guide the style and content are becoming more sophisticated.\n",
            "*   **Responsible GenAI:**  Addressing bias, safety, and ethical concerns related to generative AI is a major focus.  Developing techniques to mitigate harmful outputs, detect deepfakes, and ensure responsible use of the technology.\n",
            "\n",
            "**2.  Focus on Practical AI & Deployment (\"AI Engineering\"):**\n",
            "\n",
            "*   **Model Optimization and Efficiency:**  Making AI models smaller, faster, and more energy-efficient for deployment on edge devices (phones, IoT devices) and in resource-constrained environments.  This includes techniques like model quantization, pruning, and distillation.\n",
            "*   **MLOps (Machine Learning Operations):**  Streamlining the entire AI lifecycle, from data preparation and model training to deployment, monitoring, and maintenance.  Tools and platforms that automate these processes are gaining traction.  Think DevOps, but for AI.\n",
            "*   **AI-Powered Infrastructure:** Using AI to optimize cloud infrastructure, manage resources, and improve performance.  AI is helping to make AI itself more efficient.\n",
            "*   **Edge AI:** Running AI models directly on devices, rather than in the cloud, to reduce latency, improve privacy, and enable offline functionality.  This is crucial for applications like autonomous vehicles and robotics.\n",
            "\n",
            "**3.  The Rise of \"Small Language Models\" (SLMs):**\n",
            "\n",
            "*   **Alternatives to LLMs:** Recognizing that not every task requires a massive LLM, there's growing interest in smaller, more specialized models that can be fine-tuned for specific applications.  These are often more efficient, cheaper to run, and easier to deploy.\n",
            "*   **Verticalized AI:**  Focus on AI solutions tailored to specific industries or use cases.  Instead of general-purpose models, companies are building AI that addresses the unique needs of healthcare, finance, manufacturing, etc.\n",
            "\n",
            "**4.  Emphasis on Data-Centric AI:**\n",
            "\n",
            "*   **Data Quality and Governance:**  Recognizing that high-quality data is essential for building effective AI models.  Focus on improving data collection, cleaning, labeling, and validation processes.\n",
            "*   **Synthetic Data Generation:** Using AI to generate synthetic data that can be used to augment or replace real-world data, especially when data is scarce or sensitive.\n",
            "*   **Active Learning:**  A technique where AI models actively select the data points that are most informative for training, reducing the amount of labeled data needed.\n",
            "\n",
            "**5.  Explainable AI (XAI) and Trustworthy AI:**\n",
            "\n",
            "*   **Making AI Decisions Understandable:**  Developing techniques to understand how AI models arrive at their decisions, making them more transparent and accountable.\n",
            "*   **Bias Detection and Mitigation:**  Addressing bias in AI models and data to ensure fair and equitable outcomes.\n",
            "*   **Robustness and Security:**  Protecting AI models from adversarial attacks and ensuring that they are resilient to noise and errors.\n",
            "\n",
            "**In summary:** The current AI landscape is characterized by:\n",
            "\n",
            "*   **Moving beyond hype to practical application.**\n",
            "*   **A focus on efficiency, scalability, and responsible AI practices.**\n",
            "*   **Exploiting the power of generative AI across a wider range of modalities.**\n",
            "*   **Leveraging smaller, more specialized models for specific tasks.**\n",
            "*   **Recognizing the crucial role of data quality in AI success.**\n",
            "\n",
            "Keep an eye on these themes as they continue to evolve and shape the future of AI. Remember to stay critical and evaluate new developments with a healthy dose of skepticism, as not everything that glitters is gold.\n",
            "\n"
          ]
        }
      ],
      "source": [
        "# Demo one\n",
        "from vertexai.generative_models import GenerativeModel, Content, Part\n",
        "\n",
        "# ✅ Initialize Gemini Model\n",
        "model = GenerativeModel(\"gemini-2.0-flash-001\")\n",
        "\n",
        "# ✅ Create User Input\n",
        "user_query = \"What is the latest trend in AI?\"\n",
        "contents = [Content(role=\"user\", parts=[Part.from_text(user_query)])]\n",
        "\n",
        "# ✅ Generate Response\n",
        "response = model.generate_content(contents=contents)\n",
        "print(response.text)\n"
      ]
    },
    {
      "cell_type": "code",
      "execution_count": null,
      "metadata": {
        "colab": {
          "background_save": true
        },
        "id": "LE2PlbiQ0jze"
      },
      "outputs": [],
      "source": [
        "import requests\n",
        "from vertexai.generative_models import GenerativeModel, Content, Part\n",
        "\n",
        "# ✅ Alpha Vantage API Key\n",
        "API_KEY = \"\"  # Replace with your actual API Key\n",
        "\n",
        "# ✅ Function to Fetch Stock Data\n",
        "def get_stock_price(symbol):\n",
        "    \"\"\"Fetches real-time stock data for the given symbol from Alpha Vantage.\"\"\"\n",
        "    url = f\"https://www.alphavantage.co/query?function=TIME_SERIES_INTRADAY&symbol={symbol}&interval=5min&apikey={API_KEY}\"\n",
        "\n",
        "    response = requests.get(url)\n",
        "    data = response.json()\n",
        "\n",
        "    # Extract stock data\n",
        "    time_series = data.get(\"Time Series (5min)\", {})\n",
        "\n",
        "    if not time_series:\n",
        "        return f\"❌ No data found for {symbol}. Please check the stock symbol.\"\n",
        "\n",
        "    # Get the latest timestamp\n",
        "    latest_timestamp = max(time_series.keys())\n",
        "    stock_data = time_series[latest_timestamp]\n",
        "\n",
        "    return (\n",
        "        f\"📈 Stock Data for {symbol}:\\n\"\n",
        "        f\"- Open: {stock_data['1. open']}\\n\"\n",
        "        f\"- High: {stock_data['2. high']}\\n\"\n",
        "        f\"- Low: {stock_data['3. low']}\\n\"\n",
        "        f\"- Close: {stock_data['4. close']}\\n\"\n",
        "        f\"- Volume: {stock_data['5. volume']}\\n\"\n",
        "    )\n",
        "\n",
        "# ✅ Function to Handle AI & Stock Data Retrieval\n",
        "def gemini_stock_advisor(user_query):\n",
        "    \"\"\"Determines whether to fetch stock data or use Gemini AI for insights.\"\"\"\n",
        "\n",
        "    words = user_query.split()\n",
        "    stock_symbol = None\n",
        "\n",
        "    for word in words:\n",
        "        if word.isupper() and len(word) <= 5:  # Stock symbols are uppercase\n",
        "            stock_symbol = word\n",
        "            break\n",
        "\n",
        "    # ✅ If stock symbol is detected, fetch stock data\n",
        "    if stock_symbol:\n",
        "        return get_stock_price(stock_symbol)\n",
        "\n",
        "    # ✅ Otherwise, use Gemini AI to generate investment insights\n",
        "    model = GenerativeModel(\n",
        "        \"gemini-2.0-flash-001\",\n",
        "        generation_config={\n",
        "            \"temperature\": 0.7,\n",
        "            \"top_p\": 0.95,\n",
        "            \"max_output_tokens\": 1024,\n",
        "            \"response_mime_type\": \"text/plain\",\n",
        "        },\n",
        "        system_instruction=\"\"\"📌 Stock Market Assistant:\n",
        "You provide real-time stock analysis and beginner-friendly investment insights.\n",
        "Explain trends clearly and avoid complex financial jargon. Always include:\n",
        "1. 📈 Stock Data Summary\n",
        "2. 💡 Investment Advice\"\"\"\n",
        "    )\n",
        "\n",
        "    contents = [Content(role=\"user\", parts=[Part.from_text(user_query)])]\n",
        "\n",
        "    response = model.generate_content(contents=contents)\n",
        "    return response.text\n",
        "\n",
        "# ✅ Example Queries\n",
        "print(gemini_stock_advisor(\"What is IBM's latest stock price?\"))  # Fetches stock data\n",
        "print(gemini_stock_advisor(\"Should I invest in AAPL?\"))  # Gemini AI gives advice\n",
        "print(gemini_stock_advisor(\"Tell me about Tesla's stock performance today.\"))  # Fetches TSLA stock\n",
        "print(gemini_stock_advisor(\"How do stock markets work?\"))  # Gemini AI explains stock markets\n"
      ]
    }
  ],
  "metadata": {
    "accelerator": "GPU",
    "colab": {
      "gpuType": "T4",
      "provenance": []
    },
    "kernelspec": {
      "display_name": "Python 3",
      "name": "python3"
    },
    "language_info": {
      "name": "python"
    }
  },
  "nbformat": 4,
  "nbformat_minor": 0
}