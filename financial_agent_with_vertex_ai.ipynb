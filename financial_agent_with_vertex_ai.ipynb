{
  "nbformat": 4,
  "nbformat_minor": 0,
  "metadata": {
    "colab": {
      "provenance": [],
      "gpuType": "T4"
    },
    "kernelspec": {
      "name": "python3",
      "display_name": "Python 3"
    },
    "language_info": {
      "name": "python"
    },
    "accelerator": "GPU"
  },
  "cells": [
    {
      "cell_type": "markdown",
      "source": [
        "## Authentication"
      ],
      "metadata": {
        "id": "k708_0op5iF9"
      }
    },
    {
      "cell_type": "code",
      "source": [
        "!gcloud auth application-default login --no-launch-browser\n",
        "\n",
        ""
      ],
      "metadata": {
        "colab": {
          "base_uri": "https://localhost:8080/"
        },
        "id": "",
        "outputId": ""
      },
      "execution_count": null,
      "outputs": [
        {
          "output_type": "stream",
          "name": "stdout",
          "text": [
            "Go to the following link in your browser, and complete the sign-in prompts:\n",
            "\n",
            "    https://accounts.google.com/o/oauth2/auth?response_type=code&client_id=764086051850-6qr4p6gpi6hn506pt8ejuq83di341hur.apps.googleusercontent.com&redirect_uri=https%3A%2F%2Fsdk.cloud.google.com%2Fapplicationdefaultauthcode.html&scope=openid+https%3A%2F%2Fwww.googleapis.com%2Fauth%2Fuserinfo.email+https%3A%2F%2Fwww.googleapis.com%2Fauth%2Fcloud-platform+https%3A%2F%2Fwww.googleapis.com%2Fauth%2Fsqlservice.login&state=UkXgS2Whly4sTtgAXSvGFbd6DND6vz&prompt=consent&token_usage=remote&access_type=offline&code_challenge=Ib6M0UaIckvQpAGXzmEBnxTfHxECBGBplX5LiOUYT7g&code_challenge_method=S256\n",
            "\n",
            "Once finished, enter the verification code provided in your browser: "
          ]
        }
      ]
    },
    {
      "cell_type": "code",
      "source": [
        "!gcloud config list\n",
        ""
      ],
      "metadata": {
        "colab": {
          "base_uri": "https://localhost:8080/"
        },
        "id": "",
        "outputId": ""
      },
      "execution_count": null,
      "outputs": [
        {
          "output_type": "stream",
          "name": "stdout",
          "text": [
            "[component_manager]\n",
            "disable_update_check = True\n",
            "[compute]\n",
            "gce_metadata_read_timeout_sec = 0\n",
            "[core]\n",
            "project = ",
            "\n",
            "Your active configuration is: [default]\n"
          ]
        }
      ]
    },
    {
      "cell_type": "code",
      "source": [
        "!gcloud config set project secret-sphinx-369615\n"
      ],
      "metadata": {
        "colab": {
          "base_uri": "https://localhost:8080/"
        },
        "id": "",
        "outputId": ""
      },
      "execution_count": null,
      "outputs": [
        {
          "output_type": "stream",
          "name": "stdout",
          "text": [
            "Updated property [core/project].\n"
          ]
        }
      ]
    },
    {
      "cell_type": "markdown",
      "source": [
        "### Intialize the project"
      ],
      "metadata": {
        "id": "SUTWFkDw5nrH"
      }
    },
    {
      "cell_type": "code",
      "source": [
        "from google.auth import default\n",
        "from vertexai import init\n",
        "\n",
        "#  Get default Google credentials\n",
        "credentials, project_id = default()\n",
        "\n",
        "# Initialize Vertex AI\n",
        "init(\n",
        "    project=\"secret-sphinx-369615\",\n",
        "    location=\"us-central1\",\n",
        "    credentials=credentials\n",
        ")"
      ],
      "metadata": {
        "id": "Ki_CtoX6zdsz"
      },
      "execution_count": 23,
      "outputs": []
    },
    {
      "cell_type": "code",
      "source": [
        "!gcloud auth application-default print-access-token\n",
        ""
      ],
      "metadata": {
        "colab": {
          "base_uri": "https://localhost:8080/"
        },
        "id": "",
        "outputId": ""
      },
      "execution_count": null,
      "outputs": [
        {
          "output_type": "stream",
          "name": "stdout",
        }
      ]
    },
    {
      "cell_type": "markdown",
      "source": [
        "## Demo Test"
      ],
      "metadata": {
        "id": "h27wfy5y5xuV"
      }
    },
    {
      "cell_type": "code",
      "source": [
        "from vertexai.generative_models import GenerativeModel, Content, Part\n",
        "\n",
        "# Initialize Gemini Model\n",
        "model = GenerativeModel(\"gemini-2.0-flash-001\")\n",
        "\n",
        "# Create User Input\n",
        "user_query = \"What is the latest trend in AI?\"\n",
        "contents = [Content(role=\"user\", parts=[Part.from_text(user_query)])]\n",
        "\n",
        "# Generate Response\n",
        "response = model.generate_content(contents=contents)\n",
        "print(response.text)\n"
      ],
      "metadata": {
        "colab": {
          "base_uri": "https://localhost:8080/"
        },
        "id": "jzKLHOCY0kEB",
        "outputId": "94923687-a3f4-4010-bd84-1723d3a73b8d"
      },
      "execution_count": null,
      "outputs": [
        {
          "output_type": "stream",
          "name": "stdout",
          "text": [
            "It's tough to pinpoint *the* singular \"latest\" trend in AI, as the field is evolving incredibly rapidly. However, here are a few of the hottest and most impactful trends right now, along with why they're important:\n",
            "\n",
            "**1. Generative AI Beyond Text & Images: Focus on Video, Audio, and 3D**\n",
            "\n",
            "*   **What it is:**  Building upon the success of tools like ChatGPT and DALL-E, the focus is shifting towards generating more complex media types like high-quality video (realistic and stylized), realistic audio (music, speech), and 3D models for various applications (gaming, metaverse, design).  Think RunwayML, Pika Labs, and various audio generation platforms.\n",
            "*   **Why it's important:**  Opens up huge creative possibilities, potentially revolutionizes entertainment, design, simulation, and education. Reduces the barrier to content creation.\n",
            "*   **Examples:**\n",
            "    *   AI-generated video ads\n",
            "    *   Customizable AI-generated music soundtracks\n",
            "    *   Rapid prototyping of 3D models for product design\n",
            "\n",
            "**2. Multimodal AI: Combining Different Data Types**\n",
            "\n",
            "*   **What it is:**  AI models that can understand and process multiple types of data simultaneously, such as text, images, audio, video, and sensor data.  Instead of treating them separately, the model understands the relationships and context between them.\n",
            "*   **Why it's important:**  Mimics how humans perceive and understand the world. Leads to more accurate and nuanced AI solutions.\n",
            "*   **Examples:**\n",
            "    *   Self-driving cars that use cameras, lidar, and radar to understand their environment\n",
            "    *   Medical diagnosis systems that combine image scans with patient history and lab results.\n",
            "    *   Virtual assistants that can respond to voice commands and understand visual cues\n",
            "\n",
            "**3. Agent AI and Autonomous Systems**\n",
            "\n",
            "*   **What it is:**  AI systems designed to be autonomous \"agents\" that can perceive their environment, plan actions, and execute them to achieve specific goals, often over long periods and with minimal human intervention.\n",
            "*   **Why it's important:**  Could automate complex tasks in various industries, leading to increased efficiency and productivity. Think of AI agents managing supply chains, negotiating deals, or conducting scientific research.\n",
            "*   **Examples:**\n",
            "    *   AI-powered robotic process automation (RPA)\n",
            "    *   Autonomous drones for delivery or inspection\n",
            "    *   AI agents for financial trading or customer service\n",
            "\n",
            "**4.  Responsible AI and Ethical Considerations**\n",
            "\n",
            "*   **What it is:**  Focus on developing and deploying AI systems in a way that is fair, transparent, accountable, and respects human values.  Addresses biases in data and algorithms, ensures privacy, and prevents misuse.\n",
            "*   **Why it's important:**  Crucial for building trust in AI and ensuring its benefits are shared equitably. Prevents unintended consequences and promotes social good.\n",
            "*   **Examples:**\n",
            "    *   Bias detection and mitigation tools\n",
            "    *   Explainable AI (XAI) techniques to understand how AI models make decisions\n",
            "    *   AI ethics frameworks and regulations\n",
            "\n",
            "**5. Model Optimization and Efficiency**\n",
            "\n",
            "*   **What it is:** Developing techniques to make AI models smaller, faster, and more energy-efficient. This includes model compression, quantization, pruning, and neural architecture search.\n",
            "*   **Why it's important:** Enables AI to be deployed on resource-constrained devices (e.g., smartphones, IoT devices) and reduces the environmental impact of training large AI models.\n",
            "*   **Examples:**\n",
            "    *   Mobile-friendly AI applications\n",
            "    *   Edge computing solutions that process data locally\n",
            "    *   AI-powered optimization of data center energy consumption\n",
            "\n",
            "**6.  AI Democratization and Low-Code/No-Code AI**\n",
            "\n",
            "*   **What it is:** Making AI tools and technologies more accessible to non-experts through user-friendly interfaces and pre-built components.\n",
            "*   **Why it's important:**  Empowers more people to leverage AI for their work and personal lives, accelerating innovation and solving problems in various domains.\n",
            "*   **Examples:**\n",
            "    *   Drag-and-drop AI model building platforms\n",
            "    *   Pre-trained AI models for specific tasks\n",
            "    *   AI-powered data analysis tools\n",
            "\n",
            "**In summary:**  The AI landscape is moving beyond just text and image generation.  The convergence of multiple data types (multimodality), the development of autonomous agents, and the focus on responsible and efficient AI are all major driving forces.  Furthermore, making AI more accessible to everyone is crucial for its widespread adoption and societal impact.\n",
            "\n"
          ]
        }
      ]
    },
    {
      "cell_type": "code",
      "source": [],
      "metadata": {
        "id": "meHMkFpC0j_Q"
      },
      "execution_count": null,
      "outputs": []
    },
    {
      "cell_type": "code",
      "source": [],
      "metadata": {
        "id": "_97NM77-0j23"
      },
      "execution_count": null,
      "outputs": []
    },
    {
      "cell_type": "code",
      "source": [
        "import requests\n",
        "from vertexai.generative_models import GenerativeModel, Content, Part\n",
        "\n",
        "# ✅ Alpha Vantage API Key\n",
        "API_KEY = ""  # Replace with your actual API Key\n",
        "\n",
        "# ✅ Function to Fetch Stock Data\n",
        "def get_stock_price(symbol):\n",
        "    \"\"\"Fetches real-time stock data for the given symbol from Alpha Vantage.\"\"\"\n",
        "    url = f\"https://www.alphavantage.co/query?function=TIME_SERIES_INTRADAY&symbol={symbol}&interval=5min&apikey={API_KEY}\"\n",
        "\n",
        "    response = requests.get(url)\n",
        "    data = response.json()\n",
        "\n",
        "    # Extract stock data\n",
        "    time_series = data.get(\"Time Series (5min)\", {})\n",
        "\n",
        "    if not time_series:\n",
        "        return f\"❌ No data found for {symbol}. Please check the stock symbol.\"\n",
        "\n",
        "    # Get the latest timestamp\n",
        "    latest_timestamp = max(time_series.keys())\n",
        "    stock_data = time_series[latest_timestamp]\n",
        "\n",
        "    return (\n",
        "        f\"📈 Stock Data for {symbol}:\\n\"\n",
        "        f\"- Open: {stock_data['1. open']}\\n\"\n",
        "        f\"- High: {stock_data['2. high']}\\n\"\n",
        "        f\"- Low: {stock_data['3. low']}\\n\"\n",
        "        f\"- Close: {stock_data['4. close']}\\n\"\n",
        "        f\"- Volume: {stock_data['5. volume']}\\n\"\n",
        "    )\n",
        "\n",
        "# ✅ Function to Handle AI & Stock Data Retrieval\n",
        "def gemini_stock_advisor(user_query):\n",
        "    \"\"\"Determines whether to fetch stock data or use Gemini AI for insights.\"\"\"\n",
        "\n",
        "    words = user_query.split()\n",
        "    stock_symbol = None\n",
        "\n",
        "    for word in words:\n",
        "        if word.isupper() and len(word) <= 5:  # Stock symbols are uppercase\n",
        "            stock_symbol = word\n",
        "            break\n",
        "\n",
        "    # ✅ If stock symbol is detected, fetch stock data\n",
        "    if stock_symbol:\n",
        "        return get_stock_price(stock_symbol)\n",
        "\n",
        "    # ✅ Otherwise, use Gemini AI to generate investment insights\n",
        "    model = GenerativeModel(\n",
        "        \"gemini-2.0-flash-001\",\n",
        "        generation_config={\n",
        "            \"temperature\": 0.7,\n",
        "            \"top_p\": 0.95,\n",
        "            \"max_output_tokens\": 1024,\n",
        "            \"response_mime_type\": \"text/plain\",\n",
        "        },\n",
        "        system_instruction=\"\"\"📌 Stock Market Assistant:\n",
        "You provide real-time stock analysis and beginner-friendly investment insights.\n",
        "Explain trends clearly and avoid complex financial jargon. Always include:\n",
        "1. 📈 Stock Data Summary\n",
        "2. 💡 Investment Advice\"\"\"\n",
        "    )\n",
        "\n",
        "    contents = [Content(role=\"user\", parts=[Part.from_text(user_query)])]\n",
        "\n",
        "    response = model.generate_content(contents=contents)\n",
        "    return response.text\n",
        "\n",
        "# ✅ Example Queries\n",
        "print(gemini_stock_advisor(\"What is IBM's latest stock price?\"))  # Fetches stock data\n",
        "print(gemini_stock_advisor(\"Should I invest in AAPL?\"))  # Gemini AI gives advice\n",
        "print(gemini_stock_advisor(\"Tell me about Tesla's stock performance today.\"))  # Fetches TSLA stock\n",
        "print(gemini_stock_advisor(\"How do stock markets work?\"))  # Gemini AI explains stock markets\n"
      ],
      "metadata": {
        "colab": {
          "base_uri": "https://localhost:8080/"
        },
        "id": "LE2PlbiQ0jze",
        "outputId": "1678f864-caeb-4180-bbc1-4020a83a8257"
      },
      "execution_count": null,
      "outputs": [
        {
          "output_type": "stream",
          "name": "stdout",
          "text": [
            "Okay, here's a quick rundown of IBM's stock performance and some investment considerations:\n",
            "\n",
            "**IBM (International Business Machines)**\n",
            "\n",
            "1.  **📈 Stock Data Summary**\n",
            "    *   **Current Price:** $198.40\n",
            "    *   **Day Change:** Up $2.30 (1.17%)\n",
            "    *   **Market Status:** Open\n",
            "\n",
            "2.  **💡 Investment Advice**\n",
            "    *   **Trend:** IBM shows a positive trend today, with a notable increase.\n",
            "    *   **Strategy:**\n",
            "        *   **For Beginners:** IBM is generally considered a stable, established company, which can make it a less risky choice for new investors.\n",
            "        *   **Considerations:** Look into IBM's long-term growth strategies, particularly in cloud computing and AI, to see if they align with your investment goals.\n",
            "        *   **Diversify:** As always, don't put all your eggs in one basket. Diversifying your portfolio helps manage risk.\n",
            "\n",
            "**Disclaimer:** *I am an AI and cannot provide financial advice. This information is for educational purposes only. Consult with a qualified financial advisor before making any investment decisions.*\n",
            "❌ No data found for I. Please check the stock symbol.\n",
            "Alright! Here's a quick rundown of Tesla's stock performance today, along with some friendly investment advice:\n",
            "\n",
            "**📈 Tesla (TSLA) Stock Data Summary:**\n",
            "\n",
            "*   **Current Price:** \\$177.77\n",
            "*   **Today's Change:** Increased by $8.29 (+4.89%)\n",
            "*   **Summary:** Tesla's stock is up today, showing positive movement.\n",
            "\n",
            "**💡 Investment Advice:**\n",
            "\n",
            "*   **Potential Upside:** Tesla is a growth stock.\n",
            "*   **Downside Risk:** Tesla's stock is known for its volatility.\n",
            "*   **Recommendation:** Investing in Tesla carries risk.\n",
            "\n",
            "**Disclaimer:** *I am only an AI Chatbot. Consult with a qualified financial advisor before making any investment decisions.*\n",
            "Okay, here's a breakdown of how stock markets work, designed to be easy to understand:\n",
            "\n",
            "**In Simple Terms:**\n",
            "\n",
            "Imagine a farmer who owns a farm. To grow the farm, he needs money. He can:\n",
            "*   Borrow money from a bank (like a company taking out a loan).\n",
            "*   Or, he can sell pieces of ownership in his farm to other people. These pieces of ownership are like \"shares\" of the farm.\n",
            "\n",
            "The stock market is like a big marketplace where these \"shares\" of ownership in companies are bought and sold.\n",
            "\n",
            "**Here's a more detailed explanation:**\n",
            "\n",
            "1.  **Companies Need Money:** Companies often need money to grow, develop new products, expand their operations, or pay off debts.\n",
            "\n",
            "2.  **Going Public (IPO):** One way for a company to raise money is to \"go public.\" This means they offer shares of their company to the public for the first time through an **Initial Public Offering (IPO).**\n",
            "\n",
            "3.  **Stocks (Shares):** When you buy a stock, you're buying a small piece of ownership in that company. If the company does well, the value of your stock can increase. If the company struggles, the value of your stock can decrease.\n",
            "\n",
            "4.  **The Stock Exchange:** The stock exchange (like the New York Stock Exchange (NYSE) or the Nasdaq) is a marketplace where buyers and sellers come together to trade these stocks. Think of it like a giant auction house for company shares.\n",
            "\n",
            "5.  **Supply and Demand:** Stock prices are determined by supply and demand.\n",
            "    *   **High Demand:** If many people want to buy a particular stock, the price goes up.\n",
            "    *   **High Supply:** If many people want to sell a particular stock, the price goes down.\n",
            "\n",
            "6.  **Investors:** People who buy and sell stocks are called investors. They can be individuals like you and me, or large institutions like pension funds, mutual funds, and hedge funds.\n",
            "\n",
            "7.  **Brokers:** Most individual investors use a broker to buy and sell stocks. A broker is a company that acts as an intermediary between the investor and the stock exchange. Nowadays, many brokers offer online platforms, making it easy to buy and sell stocks from your computer or phone.\n",
            "\n",
            "8.  **Why Companies List on the Stock Market:**\n",
            "    *   **Raise Capital:** To get money for growth.\n",
            "    *   **Increase Visibility:** Being publicly traded can raise a company's profile.\n",
            "    *   **Liquidity:** Allows early investors and founders to cash out some of their holdings.\n",
            "\n",
            "9.  **Why Investors Buy Stocks:**\n",
            "    *   **Potential for Growth:** Stocks can increase in value over time, providing a return on investment.\n",
            "    *   **Dividends:** Some companies pay out a portion of their profits to shareholders in the form of dividends.\n",
            "    *   **Ownership:** Owning stock means you have a stake in the company's success.\n",
            "\n",
            "**Key Concepts to Remember:**\n",
            "\n",
            "*   **Volatility:** Stock prices can go up and down, sometimes dramatically. This is called volatility.\n",
            "*   **Risk:** Investing in the stock market involves risk. You could lose money.\n",
            "*   **Diversification:** Spreading your investments across different stocks, industries, and asset classes to reduce risk.\n",
            "*   **Long-Term Investing:** Investing for the long term (years or decades) is generally considered a safer strategy than trying to make quick profits through short-term trading.\n",
            "\n",
            "**Important Disclaimer:** I am an AI and cannot provide financial advice. This information is for educational purposes only. Before making any investment decisions, consult with a qualified financial advisor.\n",
            "\n"
          ]
        }
      ]
    }
  ]
}
